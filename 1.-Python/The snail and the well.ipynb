{
 "cells": [
  {
   "cell_type": "code",
   "execution_count": 22,
   "metadata": {},
   "outputs": [],
   "source": [
    "well_height= 125\n",
    "daily_distance= 30\n",
    "nightly_distance=-20\n",
    "snail_position=0\n",
    "days= 0\n",
    "snail_trapped= True\n",
    "total_distance_day= daily_distance+nightly_distance\n",
    "\n"
   ]
  },
  {
   "cell_type": "code",
   "execution_count": 23,
   "metadata": {},
   "outputs": [
    {
     "name": "stdout",
     "output_type": "stream",
     "text": [
      "1\n",
      "2\n",
      "3\n",
      "4\n",
      "5\n",
      "6\n",
      "7\n",
      "8\n",
      "9\n",
      "10\n",
      "11\n",
      "12\n",
      "13\n",
      "The snail has escaped in 13 days\n"
     ]
    }
   ],
   "source": [
    "while snail_trapped:\n",
    "    snail_position += total_distance_day\n",
    "    days += 1\n",
    "    print (days)\n",
    "    if snail_position >= well_height:\n",
    "        snail_trapped= False\n",
    "        print (\"The snail has escaped in\", days, \"days\")\n",
    "    \n",
    "    "
   ]
  },
  {
   "cell_type": "code",
   "execution_count": 2,
   "metadata": {},
   "outputs": [],
   "source": [
    "advance_cm = [30, 21, 33, 77, 44, 45, 23, 45, 12, 34, 55]\n",
    "well_height= 125\n",
    "snail_position= 0\n",
    "days=0\n",
    "nightly_distance= -20\n",
    "snail_trapped= True\n",
    "total_distance_day = advance_cm[0]-nightly_distance"
   ]
  },
  {
   "cell_type": "code",
   "execution_count": 5,
   "metadata": {},
   "outputs": [],
   "source": [
    "while snail_position < well_height:\n",
    "    if days == 1: \n",
    "        print(str(days) + \"day gone\")\n",
    "    else:\n",
    "        print(str(days) + \"days gone\")\n",
    "    snail_position += advance_cm[0] \n",
    "    if snail_position < well_height:\n",
    "        snail_position -= nightly_distance \n",
    "        days += 1\n",
    "\n"
   ]
  },
  {
   "cell_type": "code",
   "execution_count": null,
   "metadata": {},
   "outputs": [],
   "source": []
  }
 ],
 "metadata": {
  "kernelspec": {
   "display_name": "Python 3",
   "language": "python",
   "name": "python3"
  },
  "language_info": {
   "codemirror_mode": {
    "name": "ipython",
    "version": 3
   },
   "file_extension": ".py",
   "mimetype": "text/x-python",
   "name": "python",
   "nbconvert_exporter": "python",
   "pygments_lexer": "ipython3",
   "version": "3.8.3"
  }
 },
 "nbformat": 4,
 "nbformat_minor": 4
}
